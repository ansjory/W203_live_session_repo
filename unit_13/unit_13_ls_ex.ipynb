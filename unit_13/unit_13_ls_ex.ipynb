{
 "cells": [
  {
   "cell_type": "markdown",
   "metadata": {},
   "source": [
    "<h2>Unit 13 Live Session </center> </h2>\n",
    "<h4> W203 Instructional Team </h4>"
   ]
  },
  {
   "cell_type": "markdown",
   "metadata": {},
   "source": [
    "#### Linear Regression: Interpretation and More Testing\n",
    "<center>![title](correlation.png)</center>"
   ]
  },
  {
   "cell_type": "markdown",
   "metadata": {},
   "source": [
    "#### Class Announcements\n",
    "1. Announcement 1\n",
    "2. Announcement 2\n",
    "3. Announcement 3"
   ]
  },
  {
   "cell_type": "markdown",
   "metadata": {},
   "source": [
    "#### 1.0 Interpreting Specifications\n",
    "\n",
    "What is the interpretation of $\\beta_0$ and $\\beta_1$ in each of the following specifications?\n",
    "\n",
    "** 1.1 ** Log-level: $\\log y = \\beta_0 + \\beta_1 x + u$"
   ]
  },
  {
   "cell_type": "code",
   "execution_count": null,
   "metadata": {},
   "outputs": [],
   "source": []
  },
  {
   "cell_type": "markdown",
   "metadata": {},
   "source": [
    "**1.2** Level-log: $y = \\beta_0 + \\beta_1 \\log x + u$"
   ]
  },
  {
   "cell_type": "code",
   "execution_count": null,
   "metadata": {},
   "outputs": [],
   "source": []
  },
  {
   "cell_type": "markdown",
   "metadata": {},
   "source": [
    "** 1.3 ** Log-log: $\\log y = \\beta_0 + \\beta_1 \\log x + u$"
   ]
  },
  {
   "cell_type": "code",
   "execution_count": null,
   "metadata": {},
   "outputs": [],
   "source": []
  },
  {
   "cell_type": "markdown",
   "metadata": {},
   "source": [
    "** 1.4 ** Added indicator: $y = \\beta_0 + \\beta_1 x + \\beta_2 I(x = 0) + u$"
   ]
  },
  {
   "cell_type": "code",
   "execution_count": null,
   "metadata": {},
   "outputs": [],
   "source": []
  },
  {
   "cell_type": "markdown",
   "metadata": {},
   "source": [
    "** 1.5 ** No intercept: $y = \\beta_1 x + u$"
   ]
  },
  {
   "cell_type": "code",
   "execution_count": null,
   "metadata": {},
   "outputs": [],
   "source": []
  },
  {
   "cell_type": "markdown",
   "metadata": {},
   "source": [
    "#### 2.0 Issues with MLR: Using Logarithms\n",
    "Using logarithms for the dependent or independent variables is one method used by statisticians to allow nonlinear relationships between the explained and explanatory variables. \n",
    "\n",
    "$$ \\text{ if } \\;\\; y = \\beta_0 e^{X'\\beta_1+u} \\;\\; \\text{ then } \\;\\; \\log(y) = \\log(\\beta_0) + X'\\beta_1 + u $$\n",
    "\n",
    "\n",
    "\n",
    "Another potential benefit of using logs is that taking the log of a variable often narrows its range, which is useful when working with variables that are large monetary values. \n",
    "\n",
    "Be  careful not to use log transformation indiscriminantly - in some cases this can create extreme values. For example, when a variable y is between zero and one and takes on values close to zero, log(y) can be very large in magnitude whereas the original variable, y, is bounded between zero and one."
   ]
  },
  {
   "cell_type": "markdown",
   "metadata": {},
   "source": [
    "#### 3.0 Hypothesis tests in MLR\n",
    "\n",
    "Testing Hypotheses about a Single Population Parameter: The t Test\n",
    "Hypothesis testing for a single coefficient is identical to the bivariate regression case with the t test statistic. The t statistic associated with any OLS coefficient can be used to test whether the corresponding unknown parameter in the population is equal to any given constant. \n",
    "\n",
    "In most applications, our primary interest lies in testing the null hypothesis\n",
    "$H_0$: $\\beta_j$ = 0, where j corresponds to any of the k independent variables. The statistic we use to test (against any alternative) is called \"the\" t statistic or \"the\" t ratio of $\\hat{\\beta_j}$ and is defined as $$ t_{\\hat{\\beta_j}}=\\frac{\\hat{\\beta_j}}{se(\\hat{\\beta_j})}$$\n",
    "\n",
    "Since $\\beta_j$ measures the partial effect of $x_j$ on (the expected value of) y, after controlling for all other independent variables, this hypothesis is saying that once $x_1, x_2, ., x_{j-1},x_{j}, ., x_k$ have been accounted for, $x_j$ has no effect on the expected value of y. \n",
    "\n",
    "Note: We cannot state the null hypothesis as \"$x_j$ does have a partial effect on y\" because this is true for any value of $\\beta_j$ other than zero."
   ]
  },
  {
   "cell_type": "markdown",
   "metadata": {},
   "source": [
    "** Testing Hypotheses about a Single Linear Combination of the Parameters **\n",
    "\n",
    "In Section 4.4, Wooldridge shows how to test hypotheses about a single\n",
    "linear combination of the $b_j$ by rearranging the equation and running a regression using transformed variables. \n",
    "\n",
    "Remember to pay attention to the magnitude of the coefficient estimates in addition to the size of the t statistics. "
   ]
  },
  {
   "cell_type": "markdown",
   "metadata": {},
   "source": [
    "** 3.1 ** What is the difference between economical (or practical) and statistical significance?"
   ]
  },
  {
   "cell_type": "code",
   "execution_count": null,
   "metadata": {},
   "outputs": [],
   "source": []
  },
  {
   "cell_type": "markdown",
   "metadata": {},
   "source": [
    "**  Testing Multiple Linear Restrictions: The F Test **\n",
    "\n",
    "To test multiple hypotheses about the underlying parameters $\\beta_0, \\beta_1,   ..., \\beta_k$, we can use multiple restrictions to test whether a set of independent variables has no partial effect on a dependent variable.\n",
    "\n",
    "It is often useful to test joint hypotheses together rather than use independent tests of the coefficients. For instance, the joint test that math and verbal SAT scores have no effect on W203 grades against the alternative that one or both scores has an effect. \n",
    "\n",
    "Tests of joint hypotheses have test statistics that are distributed according to either the F or $\\chi^2$ distributions. These tests are often called Wald tests and may be quoted either as F or as $\\chi^2$ statistics. "
   ]
  },
  {
   "cell_type": "markdown",
   "metadata": {},
   "source": [
    "** 3.2 ** Example linear restriction testing question"
   ]
  },
  {
   "cell_type": "code",
   "execution_count": null,
   "metadata": {},
   "outputs": [],
   "source": []
  },
  {
   "cell_type": "markdown",
   "metadata": {},
   "source": [
    "#### 4.0 Qualitative Data: Using Dummy Variables\n",
    "\n",
    "In the folowing identify the reference group, explain why the indicator variables have been included in the following models, and interpret all coefficients."
   ]
  },
  {
   "cell_type": "markdown",
   "metadata": {},
   "source": [
    "** 4.1 **: $wage = \\beta_0 + \\beta_1 educ + \\beta_2 I(educ \\geq 12)$"
   ]
  },
  {
   "cell_type": "code",
   "execution_count": null,
   "metadata": {},
   "outputs": [],
   "source": []
  },
  {
   "cell_type": "markdown",
   "metadata": {},
   "source": [
    "** 4.2 ** $wage = \\beta_0 + \\beta_1 educ + \\beta_2 female$"
   ]
  },
  {
   "cell_type": "code",
   "execution_count": null,
   "metadata": {},
   "outputs": [],
   "source": []
  },
  {
   "cell_type": "markdown",
   "metadata": {},
   "source": [
    "** 4.3 ** $wage = \\beta_0 + \\beta_1 educ + \\beta_2 female + \\beta_3 educ*female$"
   ]
  },
  {
   "cell_type": "code",
   "execution_count": null,
   "metadata": {},
   "outputs": [],
   "source": []
  },
  {
   "cell_type": "markdown",
   "metadata": {},
   "source": [
    "** 4.4 ** $wage = \\beta_0 + \\beta_1 female + \\beta_2 I(educ = 2) + \\beta_3 I(educ = 3) + ... + \\beta_{20} I(educ = 20)$"
   ]
  },
  {
   "cell_type": "code",
   "execution_count": null,
   "metadata": {},
   "outputs": [],
   "source": []
  },
  {
   "cell_type": "markdown",
   "metadata": {},
   "source": [
    "#### 5.0  R Exercise\n",
    "\n",
    "The file, engin.RData contains data from the Material Requirement Planning Survey carried out in Thailand during 1998.  It was collected by Thada Chaisawangwong, a former graduate student at MSU.  These data are for engineers in Thailand, and represents a more homogeneous group than data sets that consist of people across a variety of occupations."
   ]
  },
  {
   "cell_type": "code",
   "execution_count": 1,
   "metadata": {},
   "outputs": [
    {
     "name": "stderr",
     "output_type": "stream",
     "text": [
      "Loading required package: zoo\n",
      "\n",
      "Attaching package: ‘zoo’\n",
      "\n",
      "The following objects are masked from ‘package:base’:\n",
      "\n",
      "    as.Date, as.Date.numeric\n",
      "\n"
     ]
    }
   ],
   "source": [
    "# conda install -c r r-car\n",
    "# conda install -c r r-lmtest\n",
    "# conda install -c r r-sandwich\n",
    "library(lmtest)\n",
    "library(sandwich)\n",
    "library(car)\n",
    "load(\"engin.RData\")"
   ]
  },
  {
   "cell_type": "markdown",
   "metadata": {},
   "source": [
    "** 5.1 ** Use visualizations to investigate the bivariate relationship between wage and educ.  Based on this analysis, what transformation, if any, would you apply to wage?"
   ]
  },
  {
   "cell_type": "code",
   "execution_count": null,
   "metadata": {},
   "outputs": [],
   "source": []
  },
  {
   "cell_type": "markdown",
   "metadata": {},
   "source": [
    "** 5.2 ** Create a linear model, model1, with just male and educ on the right hand side.  Show how you would test the hypothesis that males and females have the same wages for all levels of education."
   ]
  },
  {
   "cell_type": "code",
   "execution_count": null,
   "metadata": {},
   "outputs": [],
   "source": []
  },
  {
   "cell_type": "markdown",
   "metadata": {},
   "source": [
    "** 5.3 ** You are considering adding two variables representing experience to the model, exper and pexper.  Show how you would test whether these variables are jointly significant."
   ]
  },
  {
   "cell_type": "code",
   "execution_count": null,
   "metadata": {},
   "outputs": [],
   "source": []
  },
  {
   "cell_type": "markdown",
   "metadata": {},
   "source": [
    "** 5.4 ** You are considering adding a variable, swage, representing starting wage to the right hand side.  Explain how this would affect your ability to understand the effects of gender."
   ]
  },
  {
   "cell_type": "code",
   "execution_count": null,
   "metadata": {},
   "outputs": [],
   "source": []
  },
  {
   "cell_type": "markdown",
   "metadata": {},
   "source": [
    "** 5.5 ** Now show how you would alter your model to test whether marginal returns to education are the same for both men and for women."
   ]
  },
  {
   "cell_type": "code",
   "execution_count": null,
   "metadata": {},
   "outputs": [],
   "source": []
  }
 ],
 "metadata": {
  "kernelspec": {
   "display_name": "R",
   "language": "R",
   "name": "ir"
  },
  "language_info": {
   "codemirror_mode": "r",
   "file_extension": ".r",
   "mimetype": "text/x-r-source",
   "name": "R",
   "pygments_lexer": "r",
   "version": "3.4.3"
  }
 },
 "nbformat": 4,
 "nbformat_minor": 2
}
