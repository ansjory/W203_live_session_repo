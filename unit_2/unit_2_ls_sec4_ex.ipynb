{
 "cells": [
  {
   "cell_type": "markdown",
   "metadata": {},
   "source": [
    "<h2> Unit 2 Live Session </h2>\n",
    "#### W203 Instructional Team"
   ]
  },
  {
   "cell_type": "markdown",
   "metadata": {},
   "source": [
    "#### Exploratory Data Analysis\n",
    "<center>![title](data.png)</center>"
   ]
  },
  {
   "cell_type": "markdown",
   "metadata": {},
   "source": [
    "#### Class Announcements\n",
    "\n",
    "\n",
    "1. Live Session Notebook: \n",
    "\n",
    " > conda install -c r r-car\n",
    " \n",
    "2. Assignments: Where and how to turn them in.\n",
    "\n",
    "3. Office Hours\n",
    "\n",
    "4. 2U Issues\n",
    "\n",
    "5. Lab 1 Assignment\n"
   ]
  },
  {
   "cell_type": "markdown",
   "metadata": {},
   "source": [
    "### 1.0 Pre Class Exercise Responses"
   ]
  },
  {
   "cell_type": "markdown",
   "metadata": {},
   "source": [
    "** 1.1 ** Haihui Cao:\n",
    "\n",
    "Weakness 1: the selection of women age. The women age selection in the analysis is 35-44. The reason is that most women age 35 and above have reached the point at which they will not have more children. In this age group, there are 683 rows. I don't see why women with age above 44 shouldn't be included according to this reason. If we include women older than 44, we'll have more data with 2637 rows. \n",
    "\n",
    "Weekness 2: the data should include the marriage status of the women. The marriage status of the women will have an effect on the number of kids they want. The education year is not the only factor that affect the kids number a woman has. The marriage status should be included in the data analysis."
   ]
  },
  {
   "cell_type": "markdown",
   "metadata": {},
   "source": [
    "Follow-up question: If it's true that many women in the study have not finished having children or have not finished their education, how might this be reflected in the observed relationship between fertility and education?"
   ]
  },
  {
   "cell_type": "code",
   "execution_count": null,
   "metadata": {},
   "outputs": [],
   "source": []
  },
  {
   "cell_type": "markdown",
   "metadata": {},
   "source": [
    "** 1.2 ** James De La Torre: I thought that the analysis made good use of the variables in the dataset. However, I think it would be beneficial to include other factors in the dataset that may have an influence on the number of children a woman might have. Such variables include religious upbringing, socioeconomic status (would need to find a good measure of this), and possibly race or ethnic background. With these additional factors, the same analysis of number of children vs. years of education could be performed, this time blocking by the values of these new factors."
   ]
  },
  {
   "cell_type": "markdown",
   "metadata": {},
   "source": [
    "Follow-up question: How do you decide when to bin levels of a variable together?"
   ]
  },
  {
   "cell_type": "code",
   "execution_count": null,
   "metadata": {},
   "outputs": [],
   "source": []
  },
  {
   "cell_type": "markdown",
   "metadata": {},
   "source": [
    "** 1.3 ** Rachael Burns: Both analyses do not adequately handle the effects of outlying values with very low education. The most extreme outlying point, 0 years of education and 5 kids, shows nothing else abnormal, but a look at the full data set shows that a lot of data points with low education have NA in other answers = perhaps these respondents lost interest and picked randomly. Alternative explanations include extreme poverty. I would want to look at the full survey to determine whether or not it truly makes sense to include these points. I would also question my results in light of the effects of these possibly erroneous or highly abnormal data points. Laskowski should have looked at the median value and the quartile values rather than means – this still shows a trend. Given the outliers, Sanders should not have been so quick to make conclusions at the population level from OLS.\n"
   ]
  },
  {
   "cell_type": "markdown",
   "metadata": {},
   "source": [
    "Follow-up question: Can you trust the data points you see with 0-5 years of education?"
   ]
  },
  {
   "cell_type": "code",
   "execution_count": null,
   "metadata": {},
   "outputs": [],
   "source": []
  },
  {
   "cell_type": "markdown",
   "metadata": {},
   "source": [
    "### 2.0 Data Exercise\n",
    "You are to begin an exploratory analysis with the objective of understanding how the price of a home relates to neighborhood characteristics, with an emphasis on crime."
   ]
  },
  {
   "cell_type": "code",
   "execution_count": 9,
   "metadata": {},
   "outputs": [
    {
     "ename": "ERROR",
     "evalue": "Error in setwd(\"\"): cannot change working directory\n",
     "execution_count": 9,
     "output_type": "error",
     "traceback": [
      "Error in setwd(\"\"): cannot change working directory\nTraceback:\n",
      "1. setwd(\"\")"
     ]
    }
   ],
   "source": [
    "setwd('')\n",
    "Boston = read.csv(\"Boston_w203.csv\")\n",
    "library(car)\n",
    "library(repr)"
   ]
  },
  {
   "cell_type": "markdown",
   "metadata": {},
   "source": [
    " Variable Name  |  Description \n",
    "--------- | ---------------\n",
    "crim | per capita crime rate by town\n",
    "zn | proportion of residential land zoned for lots over 25,000 sq.ft.\n",
    "indus | proportion of non-retail business acres per town\n",
    "chas | Charles River dummy variable (= 1 if tract bounds river; 0 otherwise)\n",
    "nox | nitrogen oxides concentration (parts per 10 million)\n",
    "rm | average number of rooms per dwelling\n",
    "age | proportion of owner-occupied units built prior to 1940\n",
    "dis | weighted mean of distances to five Boston employment centres \n",
    "rad | index of accessibility to radial highways \n",
    "tax | full-value property-tax rate per \\$10,000 \n",
    "ptratio | pupil-teacher ratio by town \n",
    "black | $1000(Bk - 0.63)^2$ where Bk is the proportion of blacks by town \n",
    "lstat | lower status of the population (percent) \n",
    "medv | median value of owner-occupied homes in \\$1000"
   ]
  },
  {
   "cell_type": "markdown",
   "metadata": {},
   "source": [
    "**2.1** Generate a scatterplot matrix for all metric variables. Take a few minutes to draw as many insights as you can about the relationships in the data."
   ]
  },
  {
   "cell_type": "code",
   "execution_count": 10,
   "metadata": {},
   "outputs": [
    {
     "data": {
      "text/html": [
       "No documentation for ‘scatterplotMatrix’ in specified packages and libraries:\n",
       "you could try ‘??scatterplotMatrix’"
      ],
      "text/latex": [
       "No documentation for ‘scatterplotMatrix’ in specified packages and libraries:\n",
       "you could try ‘??scatterplotMatrix’"
      ],
      "text/plain": [
       "No documentation for ‘scatterplotMatrix’ in specified packages and libraries:\n",
       "you could try ‘??scatterplotMatrix’"
      ]
     },
     "metadata": {},
     "output_type": "display_data"
    }
   ],
   "source": [
    "?scatterplotMatrix"
   ]
  },
  {
   "cell_type": "markdown",
   "metadata": {},
   "source": [
    "** 2.2 ** Examine the main output variable, medv.  Comment on any unusual values you find, and any features that might be important for statistical modeling."
   ]
  },
  {
   "cell_type": "code",
   "execution_count": null,
   "metadata": {},
   "outputs": [],
   "source": []
  },
  {
   "cell_type": "markdown",
   "metadata": {},
   "source": [
    "**2.3** Examine the main independent variable of interest, crim.  What transformation could you apply to this variable to aid in visualizing it?  Comment on any unusual features you find."
   ]
  },
  {
   "cell_type": "code",
   "execution_count": null,
   "metadata": {},
   "outputs": [],
   "source": []
  },
  {
   "cell_type": "markdown",
   "metadata": {},
   "source": [
    "** 2.4 ** Examine the bivariate relationship between medv and crime.  What type of relationship do these variables have?\n"
   ]
  },
  {
   "cell_type": "code",
   "execution_count": null,
   "metadata": {},
   "outputs": [],
   "source": []
  },
  {
   "cell_type": "markdown",
   "metadata": {},
   "source": [
    "**2.5** (As time permits) Continue your exploratory data analysis.  Be prepared to share interesting findings with the class."
   ]
  },
  {
   "cell_type": "code",
   "execution_count": null,
   "metadata": {},
   "outputs": [],
   "source": []
  }
 ],
 "metadata": {
  "kernelspec": {
   "display_name": "R",
   "language": "R",
   "name": "ir"
  },
  "language_info": {
   "codemirror_mode": "r",
   "file_extension": ".r",
   "mimetype": "text/x-r-source",
   "name": "R",
   "pygments_lexer": "r",
   "version": "3.4.3"
  }
 },
 "nbformat": 4,
 "nbformat_minor": 2
}
