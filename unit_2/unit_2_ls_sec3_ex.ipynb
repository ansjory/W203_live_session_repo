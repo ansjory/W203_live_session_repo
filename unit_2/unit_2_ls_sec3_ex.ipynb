{
 "cells": [
  {
   "cell_type": "markdown",
   "metadata": {},
   "source": [
    "<h2> Unit 2 Live Session </h2>\n",
    "#### W203 Instructional Team"
   ]
  },
  {
   "cell_type": "markdown",
   "metadata": {},
   "source": [
    "#### Exploratory Data Analysis\n",
    "<center>![title](data.png)</center>"
   ]
  },
  {
   "cell_type": "markdown",
   "metadata": {},
   "source": [
    "#### Class Announcements\n",
    "1. Lab 1 Assignment\n",
    "2. Live Session Notebook\n",
    "3. Assignments: Where and how to turn them in.\n",
    "4. Office Hours\n",
    "5. 2U Issues\n"
   ]
  },
  {
   "cell_type": "markdown",
   "metadata": {},
   "source": [
    "### 1.0 Pre Class Exercise Responses"
   ]
  },
  {
   "cell_type": "markdown",
   "metadata": {},
   "source": [
    "** 1.1 ** Peter Trenkwalder: The exploratory analysis does a good job of stating assumptions and possible issues within the confines of the variables used, but i don't think it does a great job at actually addressing the context of fertility. There's nothing in the analysis that distinguishes number of kids from the capability of having kids. We don't really know if those who have higher levels of education choose not to have children or perhaps due to stressful working schedules are incapable of having children. I'd also like to know why men were excluded from the study which wasn't mentioned."
   ]
  },
  {
   "cell_type": "markdown",
   "metadata": {},
   "source": [
    "Follow-up question: If it's true that many women in the study have not finished having children or have not finished their education, how might this be reflected in the observed relationship between fertility and education?"
   ]
  },
  {
   "cell_type": "code",
   "execution_count": null,
   "metadata": {},
   "outputs": [],
   "source": []
  },
  {
   "cell_type": "markdown",
   "metadata": {},
   "source": [
    "** 1.2 ** Christian Millsop: If I look at the number of records by years of education \"count(Fert, \"educ\")\" , I see number of records for every years of education are not equally spread. Even after binning into three categories, \"Primary School\" has only 98 records whereas \"High school\" and \"college grad\" has 339 and 243 respectively. May be if we had more records in \"Primary School\" category, the box plot might have depicted a different story."
   ]
  },
  {
   "cell_type": "markdown",
   "metadata": {},
   "source": [
    "Follow-up question: How do you decide when to bin levels of a variable together?"
   ]
  },
  {
   "cell_type": "code",
   "execution_count": null,
   "metadata": {},
   "outputs": [],
   "source": []
  },
  {
   "cell_type": "markdown",
   "metadata": {},
   "source": [
    "** 1.3 ** Ahsen Qamar:\n",
    "The analysis is very robust and makes a lot of sense. However, the data is not granular enough to analyze and understand the outliers. Towards the end of the analysis, Paul mentions how there is an outlier at 44 and a small cluster of low-age women with 1-7 years of education. We cannot glean any more information other than the fact that they are outliers.\n"
   ]
  },
  {
   "cell_type": "markdown",
   "metadata": {},
   "source": [
    "Follow-up question: Can you trust the data points you see with 0-5 years of education?"
   ]
  },
  {
   "cell_type": "code",
   "execution_count": null,
   "metadata": {},
   "outputs": [],
   "source": []
  },
  {
   "cell_type": "markdown",
   "metadata": {},
   "source": [
    "### 2.0 Data Exercise\n",
    "You are to begin an exploratory analysis with the objective of understanding how the price of a home relates to neighborhood characteristics, with an emphasis on crime."
   ]
  },
  {
   "cell_type": "code",
   "execution_count": 7,
   "metadata": {},
   "outputs": [],
   "source": [
    "setwd('')\n",
    "Boston = read.csv(\"Boston_w203.csv\")\n",
    "library(car)\n",
    "library(repr)"
   ]
  },
  {
   "cell_type": "markdown",
   "metadata": {},
   "source": [
    " Variable Name  |  Description \n",
    "--------- | ---------------\n",
    "crim | per capita crime rate by town\n",
    "zn | proportion of residential land zoned for lots over 25,000 sq.ft.\n",
    "indus | proportion of non-retail business acres per town\n",
    "chas | Charles River dummy variable (= 1 if tract bounds river; 0 otherwise)\n",
    "nox | nitrogen oxides concentration (parts per 10 million)\n",
    "rm | average number of rooms per dwelling\n",
    "age | proportion of owner-occupied units built prior to 1940\n",
    "dis | weighted mean of distances to five Boston employment centres \n",
    "rad | index of accessibility to radial highways \n",
    "tax | full-value property-tax rate per \\$10,000 \n",
    "ptratio | pupil-teacher ratio by town \n",
    "black | $1000(Bk - 0.63)^2$ where Bk is the proportion of blacks by town \n",
    "lstat | lower status of the population (percent) \n",
    "medv | median value of owner-occupied homes in \\$1000"
   ]
  },
  {
   "cell_type": "markdown",
   "metadata": {},
   "source": [
    "**2.1** Generate a scatterplot matrix for all metric variables. Take a few minutes to draw as many insights as you can about the relationships in the data."
   ]
  },
  {
   "cell_type": "code",
   "execution_count": null,
   "metadata": {},
   "outputs": [],
   "source": []
  },
  {
   "cell_type": "markdown",
   "metadata": {},
   "source": [
    "** 2.2 ** Examine the main output variable, medv.  Comment on any unusual values you find, and any features that might be important for statistical modeling."
   ]
  },
  {
   "cell_type": "code",
   "execution_count": null,
   "metadata": {},
   "outputs": [],
   "source": []
  },
  {
   "cell_type": "markdown",
   "metadata": {},
   "source": [
    "**2.3** Examine the main independent variable of interest, crim.  What transformation could you apply to this variable to aid in visualizing it?  Comment on any unusual features you find."
   ]
  },
  {
   "cell_type": "code",
   "execution_count": null,
   "metadata": {},
   "outputs": [],
   "source": []
  },
  {
   "cell_type": "markdown",
   "metadata": {},
   "source": [
    "** 2.4 ** Examine the bivariate relationship between medv and crime.  What type of relationship do these variables have?\n"
   ]
  },
  {
   "cell_type": "code",
   "execution_count": null,
   "metadata": {},
   "outputs": [],
   "source": []
  },
  {
   "cell_type": "markdown",
   "metadata": {},
   "source": [
    "**2.5** (As time permits) Continue your exploratory data analysis.  Be prepared to share interesting findings with the class."
   ]
  },
  {
   "cell_type": "code",
   "execution_count": null,
   "metadata": {},
   "outputs": [],
   "source": []
  }
 ],
 "metadata": {
  "kernelspec": {
   "display_name": "R",
   "language": "R",
   "name": "ir"
  },
  "language_info": {
   "codemirror_mode": "r",
   "file_extension": ".r",
   "mimetype": "text/x-r-source",
   "name": "R",
   "pygments_lexer": "r",
   "version": "3.4.3"
  }
 },
 "nbformat": 4,
 "nbformat_minor": 2
}
