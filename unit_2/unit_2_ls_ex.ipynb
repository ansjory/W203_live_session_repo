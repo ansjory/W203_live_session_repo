{
 "cells": [
  {
   "cell_type": "markdown",
   "metadata": {},
   "source": [
    "<h2> Unit 2 Live Session </h2>\n",
    "#### W203 Instructional Team"
   ]
  },
  {
   "cell_type": "markdown",
   "metadata": {},
   "source": [
    "#### Exploratory Data Analysis\n",
    "<center>![title](data.png)</center>"
   ]
  },
  {
   "cell_type": "markdown",
   "metadata": {},
   "source": [
    "#### Class Announcements\n",
    "1. Lab 1 Assignment\n",
    "2. Live Session Notebook\n",
    "2. Assignments: Where and how to turn them in.\n",
    "3. Office Hours\n",
    "4. 2U Issues"
   ]
  },
  {
   "cell_type": "markdown",
   "metadata": {},
   "source": [
    "### 1.0 Pre Class Exercise Responses"
   ]
  },
  {
   "cell_type": "markdown",
   "metadata": {},
   "source": [
    " First preclass response"
   ]
  },
  {
   "cell_type": "code",
   "execution_count": null,
   "metadata": {},
   "outputs": [],
   "source": []
  },
  {
   "cell_type": "markdown",
   "metadata": {},
   "source": [
    "Second preclass response"
   ]
  },
  {
   "cell_type": "code",
   "execution_count": null,
   "metadata": {},
   "outputs": [],
   "source": [
    "YARRRRRR"
   ]
  },
  {
   "cell_type": "markdown",
   "metadata": {},
   "source": [
    "Third preclass response"
   ]
  },
  {
   "cell_type": "code",
   "execution_count": null,
   "metadata": {},
   "outputs": [],
   "source": []
  },
  {
   "cell_type": "markdown",
   "metadata": {},
   "source": [
    "### 2.0 Data Exercise\n",
    "You are to begin an exploratory analysis with the objective of understanding how the price of a home relates to neighborhood characteristics, with an emphasis on crime."
   ]
  },
  {
   "cell_type": "code",
   "execution_count": 7,
   "metadata": {},
   "outputs": [],
   "source": [
    "setwd('/Users/ericpenner/Desktop/Berkeley/W203_ls_repo/unit_2')\n",
    "Boston = read.csv(\"Boston_w203.csv\")\n",
    "library(car)\n",
    "library(repr)"
   ]
  },
  {
   "cell_type": "markdown",
   "metadata": {},
   "source": [
    " Variable Name  |  Description \n",
    "--------- | ---------------\n",
    "crim | per capita crime rate by town\n",
    "zn | proportion of residential land zoned for lots over 25,000 sq.ft.\n",
    "indus | proportion of non-retail business acres per town\n",
    "chas | Charles River dummy variable (= 1 if tract bounds river; 0 otherwise)\n",
    "nox | nitrogen oxides concentration (parts per 10 million)\n",
    "rm | average number of rooms per dwelling\n",
    "age | proportion of owner-occupied units built prior to 1940\n",
    "dis | weighted mean of distances to five Boston employment centres \n",
    "rad | index of accessibility to radial highways \n",
    "tax | full-value property-tax rate per \\$10,000 \n",
    "ptratio | pupil-teacher ratio by town \n",
    "black | $1000(Bk - 0.63)^2$ where Bk is the proportion of blacks by town \n",
    "lstat | lower status of the population (percent) \n",
    "medv | median value of owner-occupied homes in \\$1000"
   ]
  },
  {
   "cell_type": "markdown",
   "metadata": {},
   "source": [
    "**2.1** Generate a scatterplot matrix for all metric variables. Take a few minutes to draw as many insights as you can about the relationships in the data."
   ]
  },
  {
   "cell_type": "code",
   "execution_count": null,
   "metadata": {},
   "outputs": [],
   "source": []
  },
  {
   "cell_type": "markdown",
   "metadata": {},
   "source": [
    "** 2.2 ** Examine the main output variable, medv.  Comment on any unusual values you find, and any features that might be important for statistical modeling."
   ]
  },
  {
   "cell_type": "code",
   "execution_count": null,
   "metadata": {},
   "outputs": [],
   "source": []
  },
  {
   "cell_type": "markdown",
   "metadata": {},
   "source": [
    "**2.3** Examine the main independent variable of interest, crim.  What transformation could you apply to this variable to aid in visualizing it?  Comment on any unusual features you find."
   ]
  },
  {
   "cell_type": "code",
   "execution_count": null,
   "metadata": {},
   "outputs": [],
   "source": []
  },
  {
   "cell_type": "markdown",
   "metadata": {},
   "source": [
    "** 2.4 ** Examine the bivariate relationship between medv and crime.  What type of relationship do these variables have?\n"
   ]
  },
  {
   "cell_type": "code",
   "execution_count": null,
   "metadata": {},
   "outputs": [],
   "source": []
  },
  {
   "cell_type": "markdown",
   "metadata": {},
   "source": [
    "**2.5** (As time permits) Continue your exploratory data analysis.  Be prepared to share interesting findings with the class."
   ]
  },
  {
   "cell_type": "code",
   "execution_count": null,
   "metadata": {},
   "outputs": [],
   "source": []
  }
 ],
 "metadata": {
  "kernelspec": {
   "display_name": "R",
   "language": "R",
   "name": "ir"
  },
  "language_info": {
   "codemirror_mode": "r",
   "file_extension": ".r",
   "mimetype": "text/x-r-source",
   "name": "R",
   "pygments_lexer": "r",
   "version": "3.4.3"
  }
 },
 "nbformat": 4,
 "nbformat_minor": 2
}
