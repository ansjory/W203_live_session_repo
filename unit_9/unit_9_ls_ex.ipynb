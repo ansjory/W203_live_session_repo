{
 "cells": [
  {
   "cell_type": "markdown",
   "metadata": {},
   "source": [
    "<h2>Unit 9 Live Session </center> </h2>\n",
    "<h4> W203 Instructional Team </h4>"
   ]
  },
  {
   "cell_type": "markdown",
   "metadata": {},
   "source": [
    "#### Comparing Means Hypothesis Tests, and Reproducibility\n",
    "<center>![title](hey_girl.jpg)</center>"
   ]
  },
  {
   "cell_type": "markdown",
   "metadata": {},
   "source": [
    "#### Class Announcements\n",
    "1. Announcement 1\n",
    "2. Announcement 2\n",
    "3. Announcement 3"
   ]
  },
  {
   "cell_type": "markdown",
   "metadata": {},
   "source": [
    "#### 1.0 Common hypothesis testing errors\n",
    "\n",
    "For each of the following scenarios, explain the key error in the statistical procedure."
   ]
  },
  {
   "cell_type": "markdown",
   "metadata": {},
   "source": [
    "** 1.1 ** Bill hypothesizes that the average student drinks between 100 and 200 grams of caffeine during a take-home lab.  He measures mean caffeine intake for a random sample of 50 lab-takers, then computes the p-value associated with his hypothesis."
   ]
  },
  {
   "cell_type": "code",
   "execution_count": null,
   "metadata": {},
   "outputs": [],
   "source": []
  },
  {
   "cell_type": "markdown",
   "metadata": {},
   "source": [
    "** 1.2 ** Mike likes peanuts.  Mike likes peanuts so much that he conducts a study to show how peanut allergies are an NIH sponsored hoax. He recruits 20 toddlers and randomly assigns each into two groups: peanut butter and brown sugar paste.  To Mike’s delight, he fails to find evidence for a difference between the groups (p = .34).  Mike concludes by accepting the null hypothesis (that peanut allergies do not exist).\n"
   ]
  },
  {
   "cell_type": "code",
   "execution_count": null,
   "metadata": {},
   "outputs": [],
   "source": []
  },
  {
   "cell_type": "markdown",
   "metadata": {},
   "source": [
    "** 1.3 ** Anne replicates Mike's study and estimates a p-value of .03, she concludes that the alternative hypothesis has a 97% chance of being true."
   ]
  },
  {
   "cell_type": "code",
   "execution_count": null,
   "metadata": {},
   "outputs": [],
   "source": []
  },
  {
   "cell_type": "markdown",
   "metadata": {},
   "source": [
    "** 1.4 ** Tim asks 50 passengers on the 8am Staten Island Ferry to complete his survey about attitudes toward atheists.  He finds a statistically significant difference between attitudes toward atheists and attitudes toward scientologists (p = .04).  Huzzah!  Tim concludes that the US public is more fearful of atheists than scientologists."
   ]
  },
  {
   "cell_type": "code",
   "execution_count": null,
   "metadata": {},
   "outputs": [],
   "source": []
  },
  {
   "cell_type": "markdown",
   "metadata": {},
   "source": [
    "#### 2.0  Comparing Means\n",
    "The file united\\_states\\_senate\\_2014\\_v2.csv contains data on the 100 members of the US senate that served in 2014.  We will consider this group to be a sample (for example, from some generative process that creates senators)."
   ]
  },
  {
   "cell_type": "code",
   "execution_count": 18,
   "metadata": {},
   "outputs": [
    {
     "data": {
      "text/plain": [
       "          Senator.Names    Gender          State            Party   \n",
       " Alan Franken    : 1    Female:20   Alabama   : 2   Democrat   :53  \n",
       " Amy Klobuchar   : 1    Male  :80   Alaska    : 2   Independent: 2  \n",
       " Angus King      : 1                Arizona   : 2   Republican :45  \n",
       " Barbara Boxer   : 1                Arkansas  : 2                   \n",
       " Barbara Mikulski: 1                California: 2                   \n",
       " Benjamin Cardin : 1                Colorado  : 2                   \n",
       " (Other)         :94                (Other)   :88                   \n",
       "            Religion  Cmpn_Mny_Rsed    Cmpn_Mny_Spnt      NRA.Rating\n",
       " Protestant     :49   Min.   : 0.100   Min.   : 0.200   A      :34  \n",
       " Catholic       :27   1st Qu.: 4.575   1st Qu.: 2.975   F      :34  \n",
       " Jewish         :10   Median : 7.550   Median : 6.000   A+     : 9  \n",
       " Other Christian: 7   Mean   : 9.645   Mean   : 8.227          : 5  \n",
       " Mormon         : 2   3rd Qu.:13.800   3rd Qu.:12.225   AQ     : 5  \n",
       " Unaffiliated   : 2   Max.   :44.200   Max.   :43.400   C      : 3  \n",
       " (Other)        : 3                                     (Other):10  "
      ]
     },
     "metadata": {},
     "output_type": "display_data"
    }
   ],
   "source": [
    "S = read.csv(\"united_states_senate_2014_v2.csv\")\n",
    "colnames(S)[6] <- 'Cmpn_Mny_Rsed'\n",
    "colnames(S)[7] <- 'Cmpn_Mny_Spnt'\n",
    "summary(S)\n"
   ]
  },
  {
   "cell_type": "markdown",
   "metadata": {},
   "source": [
    "You have three questions that you would like to answer with a statistical test. \n",
    "\n",
    "** For Each ** question, answer the following using the dataset and your background knowledge:\n",
    "\n",
    "1. Are the assumptions for a t-test met?  (you may want to review unit 9.5)\n",
    "\n",
    "2. Is a paired test or an unpaired test more appropriate?\n",
    "\n",
    "3. (Unless you argue that a t-test is clearly invalid), conduct a t-test in R and interpret the results."
   ]
  },
  {
   "cell_type": "markdown",
   "metadata": {},
   "source": [
    "** 2.1 ** Is there a difference between the amount of money a senator raises and the amount spent?"
   ]
  },
  {
   "cell_type": "code",
   "execution_count": null,
   "metadata": {},
   "outputs": [],
   "source": []
  },
  {
   "cell_type": "markdown",
   "metadata": {},
   "source": [
    "** 2.2 **  Do female Democratic senators raise more or less money than female Republican senators?"
   ]
  },
  {
   "cell_type": "code",
   "execution_count": null,
   "metadata": {},
   "outputs": [],
   "source": []
  },
  {
   "cell_type": "markdown",
   "metadata": {},
   "source": [
    "** 2.3 ** Does the NRA prefer male senators or female senators?"
   ]
  },
  {
   "cell_type": "code",
   "execution_count": null,
   "metadata": {},
   "outputs": [],
   "source": []
  },
  {
   "cell_type": "markdown",
   "metadata": {},
   "source": [
    "#### 3.0 Reproducibility"
   ]
  },
  {
   "cell_type": "markdown",
   "metadata": {},
   "source": [
    "** 3.1 ** You have a dataset of the number of Facebook status updates by day of the week.  You run 7 different t-tests, one for posts on Monday (versus all other days), or for Tuesday (versus all other days), etc.  Only the test for Sunday is significant, with a p-value of .045, so you throw out the other tests.  Should you conclude that Sunday has a significant effect on number of posts?  (How can you address this situation responsibly when you publish your results?)"
   ]
  },
  {
   "cell_type": "code",
   "execution_count": null,
   "metadata": {},
   "outputs": [],
   "source": []
  },
  {
   "cell_type": "markdown",
   "metadata": {},
   "source": [
    "** 3.2 ** As before, you have a dataset of the number of Facebook status updates by day of the week.  You do a little EDA and notice that Sunday seems to have more \"status updates\" than all other days, so you recode your \"day of the week\" variable into a binary one: Sunday = 1, All other days = 0.  You run a t-test and get a p-value of .045.  Should you conclude that Sunday has a significant effect on number of posts?"
   ]
  },
  {
   "cell_type": "code",
   "execution_count": null,
   "metadata": {},
   "outputs": [],
   "source": []
  },
  {
   "cell_type": "markdown",
   "metadata": {},
   "source": [
    "** 3.3 ** Suppose researcher A tests if Monday has an effect (versus all other days), Researcher B tests Tuesday (versus all other days), and so forth.  Only Researcher G, who tests Sunday finds a significant effect with a p-value of .045.  Only Researcher G gets to publish her work.  If you read the paper, should you conclude that Sunday has a significant effect on number of posts?  "
   ]
  },
  {
   "cell_type": "code",
   "execution_count": null,
   "metadata": {},
   "outputs": [],
   "source": []
  },
  {
   "cell_type": "markdown",
   "metadata": {},
   "source": [
    "** 3.4 ** What if researcher G above is a sociologist that chooses to measure the effect of Sunday based on years of observing the way people behave on weekends?  Researcher G is not interested in the other tests, because Sunday is the interesting day from her perspective, and she wouldn't expect any of the other tests to be significant."
   ]
  },
  {
   "cell_type": "code",
   "execution_count": null,
   "metadata": {},
   "outputs": [],
   "source": []
  },
  {
   "cell_type": "markdown",
   "metadata": {},
   "source": [
    "** 3.5 ** Many observers have noted that as studies yielding statistically significant results are repeated, estimated effect sizes go down and often become insignificant.  Why is this the case?"
   ]
  },
  {
   "cell_type": "code",
   "execution_count": null,
   "metadata": {},
   "outputs": [],
   "source": []
  }
 ],
 "metadata": {
  "kernelspec": {
   "display_name": "R",
   "language": "R",
   "name": "ir"
  },
  "language_info": {
   "codemirror_mode": "r",
   "file_extension": ".r",
   "mimetype": "text/x-r-source",
   "name": "R",
   "pygments_lexer": "r",
   "version": "3.4.3"
  }
 },
 "nbformat": 4,
 "nbformat_minor": 2
}
