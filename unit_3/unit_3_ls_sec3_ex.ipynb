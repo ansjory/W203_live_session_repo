{
 "cells": [
  {
   "cell_type": "markdown",
   "metadata": {},
   "source": [
    "<h2>Unit 3 Live Session </center> </h2>\n",
    "<h4> W203 Instructional Team </h4>"
   ]
  },
  {
   "cell_type": "markdown",
   "metadata": {},
   "source": [
    "#### Probability Theory\n",
    "<center>![title](picard.jpg)</center>"
   ]
  },
  {
   "cell_type": "markdown",
   "metadata": {},
   "source": [
    "#### Class Announcements\n",
    "\n",
    "1. Memorial Day: \n",
    "    * Make Up Section  \n",
    "    * Lab 1 Turn In\n",
    "    * Presentations\n",
    "2. TA Kshiti Bachlaus\n",
    "3. HW Solution Distribution"
   ]
  },
  {
   "cell_type": "markdown",
   "metadata": {},
   "source": [
    "#### Sharing Math: \n",
    "Over the next few weeks of the course, we'll solve a lot of math problems together.  To hand in math for homework and labs, you can do one of the following.\n",
    "* Handwrite your solutions and scan them into a **single** .pdf file\n",
    "* Write your solutions in Latex and turn in the typesetted .pdf.\n",
    "\n",
    "Even though it takes a little effort (most agree that LaTeX is a pain at first), it will help if you learn a little LaTeX.  We will be able to use the syntax for communicating equations in the notes and chat pods.\n",
    "<center>![title](latex_language.jpeg)</center>"
   ]
  },
  {
   "cell_type": "markdown",
   "metadata": {},
   "source": [
    "#### 1.0 Probability Practice\n",
    "Complete the following probability problems using the material you learned in this week's async"
   ]
  },
  {
   "cell_type": "markdown",
   "metadata": {},
   "source": [
    "**1.1** Suppose you're taking a statistics class and that in each week you are either caught up or behind on the readings. It is difficult to incorporate a new class in to your schedule so the probability that you will be caught up, having viewed all async and completed the pre class exercises before the live session, is 0.7. From then on, if you are caught up in a given week, the probability that you will be caught up in the next week is 0.7. If you are behind in a given week, the probability that you will be caught up in the next week is 0.4. What is the probability that you are caught up in week 3?"
   ]
  },
  {
   "cell_type": "code",
   "execution_count": null,
   "metadata": {},
   "outputs": [],
   "source": []
  },
  {
   "cell_type": "markdown",
   "metadata": {},
   "source": [
    "**1.2** A test for certain disease is assumed to be correct 95\\% of the time: if a person has a disease the test will give a positive result with probability 0.95. If a person does not have disease the test will give a negative result with probability 0.95. A random person drawn from a certain population has a probability 0.001 of having the disease. Given that a person drawn at random just tested positive, what is the probability that they have the disease?"
   ]
  },
  {
   "cell_type": "code",
   "execution_count": null,
   "metadata": {},
   "outputs": [],
   "source": []
  },
  {
   "cell_type": "markdown",
   "metadata": {},
   "source": [
    "### 2.0 Patents and Operationalization Discussion\n",
    "\n",
    "Here we will discuss our pre class reading from Schoenmakers, W., Duysters, G., (2010), The Technological Origins of Radical Inventions, Research Policy 39, pp. 1051-1059. "
   ]
  },
  {
   "cell_type": "markdown",
   "metadata": {},
   "source": [
    "**2.1** Schoenmakers and Duysters are particularly interested in radical inventions.  Explain what their conceptual definition is and how it is related to their operational definition."
   ]
  },
  {
   "cell_type": "markdown",
   "metadata": {},
   "source": [
    "Kenneth Chen\n",
    "\n",
    "Schoenmakers and Duysters defined radical inventions as inventions that spawn a number of subsequent\n",
    "inventions. Based on their definition or their hypothesis, they assumed that radical inventions will have\n",
    "many citations, i.e., their radical patents being cited frequently whereas radical inventions or patent itself will\n",
    "have lower citation or references due to the nature of the inventions that break apart from the pre-existing\n",
    "inventions.\n"
   ]
  },
  {
   "cell_type": "markdown",
   "metadata": {},
   "source": [
    "> 2.1 Follow up:\n",
    "> Does the choice of relying on patent data limit the type of inventions that they are studying? "
   ]
  },
  {
   "cell_type": "code",
   "execution_count": null,
   "metadata": {},
   "outputs": [],
   "source": []
  },
  {
   "cell_type": "markdown",
   "metadata": {},
   "source": [
    "**2.2** In your opinion, does the author’s operational definition of radical invention have validity?  (does it have face validity?  construct validity?)"
   ]
  },
  {
   "cell_type": "markdown",
   "metadata": {},
   "source": [
    "Kyle Chuang\n",
    "\n",
    "I believe the author's operational de\f",
    "nition of radical invention to be much too\n",
    "narrow. The basic assumption is that many additional patents based on them\n",
    "will \f",
    "led is a very questionable assumption. It focuses on relatively new patents\n",
    "when the patent o\u000ece has been established. Additionally, many basic research\n",
    "breakthroughs do not receive patents - calculus, \f",
    "re, theory of relativity, etc. In\n",
    "fact, many of the \"breakthrough\" technologies do not receive patents at all. In\n",
    "fact, the internet was not patented. Additionally, the two di\u000b",
    "erent de\f",
    "nitions\n",
    "assumes the patents are proliferated and \"changes\" the paradigms of the wolrd.\n",
    "This another critical assumption that may not be true."
   ]
  },
  {
   "cell_type": "markdown",
   "metadata": {},
   "source": [
    "> 2.2 Follow up:\n",
    "> Is there any reason to be suspicious of the process  by which citations are applied to each invention?"
   ]
  },
  {
   "cell_type": "code",
   "execution_count": null,
   "metadata": {},
   "outputs": [],
   "source": []
  },
  {
   "cell_type": "markdown",
   "metadata": {},
   "source": [
    "**2.3** If you believe there is a discrepancy between the author’s operational definition of radical invention and the intended concept, how could this affect their conclusions?  What factors, other than whether an invention is radical, could be driving their results?"
   ]
  },
  {
   "cell_type": "markdown",
   "metadata": {},
   "source": [
    "Danielle Salah\n",
    "\n",
    "There are a number of factors that may have contributed to the number of backwards\n",
    "citations in the filing. For starters, it could be a case of the thoroughness of the filing\n",
    "party. For example, inventors filing themselves may not be extensively familiar with\n",
    "previous patents that may be applicable, whereas patent attorneys do a better job of\n",
    "capturing the relevant information. Even within these two groups, it’s possible that some\n",
    "inventors or attorneys are more detail oriented than others, and this could contribute to\n",
    "the number of referenced citations. On the other hand, the complexity or simplicity of the\n",
    "technology being patented could have a significant effect how many patents are\n",
    "referenced, as more complex technologies have more elements to be considered."
   ]
  },
  {
   "cell_type": "markdown",
   "metadata": {},
   "source": [
    "> 2.3 Follow up:\n",
    "> Suppose a patent examiner is assigned to apply citations to a patent that they have little domain knowledge about, what effect would this have on the authors analysis?  "
   ]
  },
  {
   "cell_type": "code",
   "execution_count": null,
   "metadata": {},
   "outputs": [],
   "source": []
  },
  {
   "cell_type": "markdown",
   "metadata": {},
   "source": [
    "**2.4** In what other ways could you operationalize the concept of radical invention?"
   ]
  },
  {
   "cell_type": "markdown",
   "metadata": {},
   "source": [
    "Praba Santhanakrishnan\n",
    "\n",
    "Number and as well as the success of groundbreaking products that are based on the patent or the original invention could be set of other operational measurements. Surveys and opinion among the leading scientists around the world on the potential of the invention could be another great operational measurement."
   ]
  },
  {
   "cell_type": "markdown",
   "metadata": {},
   "source": [
    "> 2.4 Follow up:\n",
    "> Would the amount of licensing revenue that the inventors received in a given time period help to better measure radicalness? "
   ]
  },
  {
   "cell_type": "code",
   "execution_count": null,
   "metadata": {},
   "outputs": [],
   "source": []
  }
 ],
 "metadata": {
  "kernelspec": {
   "display_name": "R",
   "language": "R",
   "name": "ir"
  },
  "language_info": {
   "codemirror_mode": "r",
   "file_extension": ".r",
   "mimetype": "text/x-r-source",
   "name": "R",
   "pygments_lexer": "r",
   "version": "3.4.3"
  }
 },
 "nbformat": 4,
 "nbformat_minor": 2
}
