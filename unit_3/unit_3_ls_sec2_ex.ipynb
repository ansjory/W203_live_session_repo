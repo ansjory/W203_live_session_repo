{
 "cells": [
  {
   "cell_type": "markdown",
   "metadata": {},
   "source": [
    "<h2>Unit 3 Live Session </center> </h2>\n",
    "<h4> W203 Instructional Team </h4>"
   ]
  },
  {
   "cell_type": "markdown",
   "metadata": {},
   "source": [
    "#### Probability Theory\n",
    "<center>![title](picard.jpg)</center>"
   ]
  },
  {
   "cell_type": "markdown",
   "metadata": {},
   "source": [
    "#### Class Announcements\n",
    "\n",
    "1. Memorial Day: \n",
    "    * Make Up Section  \n",
    "    * Lab 1 Turn In\n",
    "    * Presentations\n",
    "2. TA Kshiti Bachlaus\n",
    "3. HW Solution Distribution"
   ]
  },
  {
   "cell_type": "markdown",
   "metadata": {},
   "source": [
    "#### Sharing Math: \n",
    "Over the next few weeks of the course, we'll solve a lot of math problems together.  To hand in math for homework and labs, you can do one of the following.\n",
    "* Handwrite your solutions and scan them into a **single** .pdf file\n",
    "* Write your solutions in Latex and turn in the typesetted .pdf.\n",
    "\n",
    "Even though it takes a little effort (most agree that LaTeX is a pain at first), it will help if you learn a little LaTeX.  We will be able to use the syntax for communicating equations in the notes and chat pods.\n",
    "<center>![title](latex_language.jpeg)</center>"
   ]
  },
  {
   "cell_type": "markdown",
   "metadata": {},
   "source": [
    "#### 1.0 Probability Practice\n",
    "Complete the following probability problems using the material you learned in this week's async"
   ]
  },
  {
   "cell_type": "markdown",
   "metadata": {},
   "source": [
    "**1.1** Suppose you're taking a statistics class and that in each week you are either caught up or behind on the readings. It is difficult to incorporate a new class in to your schedule so the probability that you will be caught up, having viewed all async and completed the pre class exercises before the live session, is 0.7. From then on, if you are caught up in a given week, the probability that you will be caught up in the next week is 0.7. If you are behind in a given week, the probability that you will be caught up in the next week is 0.4. What is the probability that you are caught up in week 3?"
   ]
  },
  {
   "cell_type": "code",
   "execution_count": null,
   "metadata": {},
   "outputs": [],
   "source": []
  },
  {
   "cell_type": "markdown",
   "metadata": {},
   "source": [
    "**1.2** A test for certain disease is assumed to be correct 95\\% of the time: if a person has a disease the test will give a positive result with probability 0.95. If a person does not have disease the test will give a negative result with probability 0.95. A random person drawn from a certain population has a probability 0.001 of having the disease. Given that a person drawn at random just tested positive, what is the probability that they have the disease?"
   ]
  },
  {
   "cell_type": "code",
   "execution_count": null,
   "metadata": {},
   "outputs": [],
   "source": []
  },
  {
   "cell_type": "markdown",
   "metadata": {},
   "source": [
    "### 2.0 Patents and Operationalization Discussion\n",
    "\n",
    "Here we will discuss our pre class reading from Schoenmakers, W., Duysters, G., (2010), The Technological Origins of Radical Inventions, Research Policy 39, pp. 1051-1059. "
   ]
  },
  {
   "cell_type": "markdown",
   "metadata": {},
   "source": [
    "**2.1** Schoenmakers and Duysters are particularly interested in radical inventions.  Explain what their conceptual definition is and how it is related to their operational definition."
   ]
  },
  {
   "cell_type": "markdown",
   "metadata": {},
   "source": [
    "James Bauserman:\n",
    "\n",
    "Their conceptual definition of a radical patent is one that is “a risky departure away from existing\n",
    "practice… [that] often lie[s] at the hart [ sic ] of changes in technological paradigms…, thereby\n",
    "creating new technological systems and sometimes even new industries.” This is\n",
    "operationalized by examining the number of subsequent patents citing each patent, assuming\n",
    "that patents that are subsequently more cited are in some sense “more radical”. While this is\n",
    "closely related to their conceptual definition, it does include noise associated with the processes\n",
    "of creating patents, for example by including variation due to the diligence of other scientists in\n",
    "filling out the citations section of their patent applications. However, when looking at the broader\n",
    "implications of their conceptual definition, where radical innovations create new economic\n",
    "paradigms, one notes that their operational definition has no relation to any actual economic\n",
    "outcomes of the innovations in question."
   ]
  },
  {
   "cell_type": "markdown",
   "metadata": {},
   "source": [
    "> 2.1 Follow up:\n",
    "> Does the choice of relying on patent data limit the type of inventions that they are studying? "
   ]
  },
  {
   "cell_type": "code",
   "execution_count": null,
   "metadata": {},
   "outputs": [],
   "source": []
  },
  {
   "cell_type": "markdown",
   "metadata": {},
   "source": [
    "**2.2** In your opinion, does the author’s operational definition of radical invention have validity?  (does it have face validity?  construct validity?)"
   ]
  },
  {
   "cell_type": "markdown",
   "metadata": {},
   "source": [
    "Keane Johnson:\n",
    "\n",
    "I do not believe the author’s definition of radical invention has validity. Radical inventions\n",
    "*as the authors define it* are inventions that change the technological paradigm of an industry.\n",
    "I agree that if an invention is truly radical, successive inventions will reference it, so this\n",
    "definition has face validity. It appears to be an effective measurement to test the radicalness of\n",
    "an invention. However, I do not believe it has construct validity. An invention can be radical and\n",
    "also reference previous patents. A radical invention might be re-purposing or combining multiple\n",
    "products into a new product."
   ]
  },
  {
   "cell_type": "markdown",
   "metadata": {},
   "source": [
    "> 2.2 Follow up:\n",
    "> Is there any reason to be suspicious of the process  by which citations are applied to each invention?"
   ]
  },
  {
   "cell_type": "code",
   "execution_count": null,
   "metadata": {},
   "outputs": [],
   "source": []
  },
  {
   "cell_type": "markdown",
   "metadata": {},
   "source": [
    "**2.3** If you believe there is a discrepancy between the author’s operational definition of radical invention and the intended concept, how could this affect their conclusions?  What factors, other than whether an invention is radical, could be driving their results?"
   ]
  },
  {
   "cell_type": "markdown",
   "metadata": {},
   "source": [
    "Chris Ventura\n",
    "\n",
    "If there is a discrepancy, the author’s entire conclusion could be discredited. If parents\n",
    "do not allow one to actually detect radical invention, the authors may not have accurately\n",
    "determined that radical inventions are based more on existing knowledge than\n",
    "non-radical inventions. The desire to patent all possible related inventions, such as a\n",
    "company trying to corner a market on a newly discovered idea, could cause a significant\n",
    "amount of patents, whether or not the original invention proves to be radical.\n",
    "Furthermore, by relying solely on patents, the authors may being ignoring radical\n",
    "inventions where the author did not seek or was unable to acquire a patent. This could\n",
    "center the conclusion around inventions from well-funded inventors."
   ]
  },
  {
   "cell_type": "markdown",
   "metadata": {},
   "source": [
    "> 2.3 Follow up:\n",
    "> Suppose a patent examiner is assigned to apply citations to a patent that they have little domain knowledge about, what effect would this have on the authors analysis? "
   ]
  },
  {
   "cell_type": "code",
   "execution_count": null,
   "metadata": {},
   "outputs": [],
   "source": []
  },
  {
   "cell_type": "markdown",
   "metadata": {},
   "source": [
    "**2.4** In what other ways could you operationalize the concept of radical invention?"
   ]
  },
  {
   "cell_type": "markdown",
   "metadata": {},
   "source": [
    "Stanley Ye\n",
    "\n",
    "Radical invention could be operationally defined as research papers that are cited more than X (e.g., 20)\n",
    "times. Another operational definition can be patents included in products with total annual revenue\n",
    "exceeding 100 million dollars; for instance, a touchscreen patent might be included in 1 million phones sold\n",
    "for a revenue of 500 million dollars."
   ]
  },
  {
   "cell_type": "markdown",
   "metadata": {},
   "source": [
    "> 2.4 Follow up:\n",
    "> Would the amount of licensing revenue that the inventors received in a given time period help to better measure radicalness? "
   ]
  },
  {
   "cell_type": "code",
   "execution_count": null,
   "metadata": {},
   "outputs": [],
   "source": []
  }
 ],
 "metadata": {
  "kernelspec": {
   "display_name": "R",
   "language": "R",
   "name": "ir"
  },
  "language_info": {
   "codemirror_mode": "r",
   "file_extension": ".r",
   "mimetype": "text/x-r-source",
   "name": "R",
   "pygments_lexer": "r",
   "version": "3.4.3"
  }
 },
 "nbformat": 4,
 "nbformat_minor": 2
}
