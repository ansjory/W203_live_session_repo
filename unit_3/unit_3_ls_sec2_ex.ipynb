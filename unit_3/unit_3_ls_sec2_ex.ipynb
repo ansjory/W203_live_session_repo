{
 "cells": [
  {
   "cell_type": "markdown",
   "metadata": {},
   "source": [
    "<h2>Unit 3 Live Session </center> </h2>\n",
    "<h4> W203 Instructional Team </h4>"
   ]
  },
  {
   "cell_type": "markdown",
   "metadata": {},
   "source": [
    "#### Probability Theory\n",
    "<center>![title](picard.jpg)</center>"
   ]
  },
  {
   "cell_type": "markdown",
   "metadata": {},
   "source": [
    "#### Class Announcements\n",
    "\n",
    "1. Memorial Day: \n",
    "    * Make Up Section  \n",
    "    * Lab 1 Turn In\n",
    "    * Presentations\n",
    "2. TA Kshiti Bachlaus\n",
    "3. HW Solution Distribution"
   ]
  },
  {
   "cell_type": "markdown",
   "metadata": {},
   "source": [
    "#### Sharing Math: \n",
    "Over the next few weeks of the course, we'll solve a lot of math problems together.  To hand in math for homework and labs, you can do one of the following.\n",
    "* Handwrite your solutions and scan them into a **single** .pdf file\n",
    "* Write your solutions in Latex and turn in the typesetted .pdf.\n",
    "\n",
    "Even though it takes a little effort (most agree that LaTeX is a pain at first), it will help if you learn a little LaTeX.  We will be able to use the syntax for communicating equations in the notes and chat pods.\n",
    "<center>![title](latex_language.jpeg)</center>"
   ]
  },
  {
   "cell_type": "markdown",
   "metadata": {},
   "source": [
    "#### 1.0 Probability Practice\n",
    "Complete the following probability problems using the material you learned in this week's async"
   ]
  },
  {
   "cell_type": "markdown",
   "metadata": {},
   "source": [
    "**1.1** Suppose you're taking a statistics class and that in each week you are either caught up or behind on the readings. It is difficult to incorporate a new class in to your schedule so the probability that you will be caught up, having viewed all async and completed the pre class exercises before the live session, is 0.7. From then on, if you are caught up in a given week, the probability that you will be caught up in the next week is 0.7. If you are behind in a given week, the probability that you will be caught up in the next week is 0.4. What is the probability that you are caught up in week 3?"
   ]
  },
  {
   "cell_type": "code",
   "execution_count": null,
   "metadata": {},
   "outputs": [],
   "source": []
  },
  {
   "cell_type": "markdown",
   "metadata": {},
   "source": [
    "**1.2** A test for certain disease is assumed to be correct 95\\% of the time: if a person has a disease the test will give a positive result with probability 0.95. If a person does not have disease the test will give a negative result with probability 0.95. A random person drawn from a certain population has a probability 0.001 of having the disease. Given that a person drawn at random just tested positive, what is the probability that they have the disease?"
   ]
  },
  {
   "cell_type": "code",
   "execution_count": null,
   "metadata": {},
   "outputs": [],
   "source": []
  },
  {
   "cell_type": "markdown",
   "metadata": {},
   "source": [
    "### 2.0 Patents and Operationalization Discussion\n",
    "\n",
    "Here we will discuss our pre class reading from Schoenmakers, W., Duysters, G., (2010), The Technological Origins of Radical Inventions, Research Policy 39, pp. 1051-1059. "
   ]
  },
  {
   "cell_type": "markdown",
   "metadata": {},
   "source": [
    "**2.1** Schoenmakers and Duysters are particularly interested in radical inventions.  Explain what their conceptual definition is and how it is related to their operational definition."
   ]
  },
  {
   "cell_type": "markdown",
   "metadata": {},
   "source": [
    "Student Name (Section X):\n",
    "\n",
    "Student Answer for 2.1"
   ]
  },
  {
   "cell_type": "code",
   "execution_count": null,
   "metadata": {},
   "outputs": [],
   "source": []
  },
  {
   "cell_type": "markdown",
   "metadata": {},
   "source": [
    "**2.2** In your opinion, does the author’s operational definition of radical invention have validity?  (does it have face validity?  construct validity?)"
   ]
  },
  {
   "cell_type": "markdown",
   "metadata": {},
   "source": [
    "Student Name (Section X):\n",
    "\n",
    "Student Answer for 2.2"
   ]
  },
  {
   "cell_type": "code",
   "execution_count": null,
   "metadata": {},
   "outputs": [],
   "source": []
  },
  {
   "cell_type": "markdown",
   "metadata": {},
   "source": [
    "**2.3** If you believe there is a discrepancy between the author’s operational definition of radical invention and the intended concept, how could this affect their conclusions?  What factors, other than whether an invention is radical, could be driving their results?"
   ]
  },
  {
   "cell_type": "markdown",
   "metadata": {},
   "source": [
    "Student Name (Section X):\n",
    "\n",
    "Student Answer for 2.3"
   ]
  },
  {
   "cell_type": "code",
   "execution_count": null,
   "metadata": {},
   "outputs": [],
   "source": []
  },
  {
   "cell_type": "markdown",
   "metadata": {},
   "source": [
    "**2.4** In what other ways could you operationalize the concept of radical invention?"
   ]
  },
  {
   "cell_type": "markdown",
   "metadata": {},
   "source": [
    "Student Name (Section X):\n",
    "\n",
    "Student Answer for 2.4"
   ]
  },
  {
   "cell_type": "code",
   "execution_count": null,
   "metadata": {},
   "outputs": [],
   "source": []
  }
 ],
 "metadata": {
  "kernelspec": {
   "display_name": "R",
   "language": "R",
   "name": "ir"
  },
  "language_info": {
   "codemirror_mode": "r",
   "file_extension": ".r",
   "mimetype": "text/x-r-source",
   "name": "R",
   "pygments_lexer": "r",
   "version": "3.4.1"
  }
 },
 "nbformat": 4,
 "nbformat_minor": 2
}
