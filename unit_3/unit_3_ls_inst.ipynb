{
 "cells": [
  {
   "cell_type": "markdown",
   "metadata": {},
   "source": [
    "<h2>Unit 3 Live Session </center> </h2>\n",
    "<h4> W203 Instructional Team </h4>"
   ]
  },
  {
   "cell_type": "markdown",
   "metadata": {},
   "source": [
    "#### Probability Theory\n",
    "<center>![title](picard.jpg)</center>"
   ]
  },
  {
   "cell_type": "markdown",
   "metadata": {},
   "source": [
    "#### Class Announcements\n",
    "1. Announcement 1 \n",
    "2. Announcement 2\n",
    "3. Announcement 3"
   ]
  },
  {
   "cell_type": "markdown",
   "metadata": {},
   "source": [
    "#### Sharing Math: \n",
    "Over the next few weeks of the course, we'll solve a lot of math problems together.  To hand in math for homework and labs, you can do one of the following.\n",
    "* Handwrite your solutions and scan them into a **single** .pdf file\n",
    "* Write your solutions in Latex and turn in the typesetted .pdf.\n",
    "\n",
    "Even though it takes a little effort (most agree that LaTeX is a pain at first), it will help if you learn a little LaTeX.  We will be able to use the syntax for communicating equations in the notes and chat pods.\n",
    "<center>![title](latex_language.jpeg)</center>"
   ]
  },
  {
   "cell_type": "markdown",
   "metadata": {},
   "source": [
    "#### 1.0 Conditional Probability and Partitions Review\n",
    "\n",
    "Lets take a few minutes to review some core concepts in probability that will help us to complete our HW problems. \n"
   ]
  },
  {
   "cell_type": "markdown",
   "metadata": {},
   "source": [
    "** State Space $\\Omega$ **: Is the collection of all possible outcomes of a given experiment \n",
    "\n",
    "* Rolling a 6 sided die: $\\Omega = \\{1,2,3,4,5,6\\}$\n",
    "* 5 Card Poker Hand: $\\Omega$ = all 2,598,960 possible hands.  \n",
    "\n",
    "<center>![title](diag_11.png)</center>"
   ]
  },
  {
   "cell_type": "markdown",
   "metadata": {},
   "source": [
    "** Partition of $\\Omega$ **: Is a collection of events $A_1,A_2,\\cdots, A_N$ with 3 properties\n",
    "\n",
    "1. $A_j \\subset \\Omega$ for all $j \\in \\{1,2,3,\\cdots, N\\}$\n",
    "\n",
    "2. $A_i \\cap A_j = \\emptyset$ whenever $i \\neq j$\n",
    "\n",
    "3. $A_1 \\cup A_2 \\cup \\cdots \\cup A_N = \\Omega$\n",
    "\n",
    "In other words, each event $A_j$ is made up of outcomes in $\\Omega$, No two $A_j$'s overlap/share the same outcome, together all $A_j$'s combine to equal $\\Omega$ \n",
    "<center>![title](diag_22.png)</center>"
   ]
  },
  {
   "cell_type": "markdown",
   "metadata": {},
   "source": [
    "Partitions allow us to take complex events which may be difficult to address directly and decompose it into simpler events which are easier to deal with. Now consider, \n",
    "\n",
    "1.) If $B\\subset \\Omega$ and $A_1,A_2,\\cdots, A_N$ is a partition of $\\Omega$ then, \n",
    "$$ B = (A_1\\cap B)\\cup(A_2 \\cap B) \\cup \\cdots \\cup (A_N \\cap B) $$\n",
    "\n",
    "2.) If $A_i\\cap A_j= \\emptyset$ then \n",
    "$$B\\cap(A_i\\cap A_j) = (B\\cap A_i)\\cap(B\\cap A_j) = \\emptyset $$ \n",
    "\n",
    "3.) If $A\\cap B = \\emptyset$ then \n",
    "$$ P(A\\cup B) = P(A) + P(B)  - P(A\\cap B) = P(A) + P(B)  - P(\\emptyset) = P(A) + P(B)  $$\n",
    "\n",
    "Combining all these gives\n",
    "$$  P(B) = P\\big[ (A_1\\cap B)\\cup(A_2 \\cap B) \\cup \\cdots \\cup (A_N \\cap B) \\big] = \\sum_{i=1}^N P(A_i \\cap B) $$\n",
    "\n",
    "** Conditional Probability ** \n",
    "$$ P(C|B) = \\frac{ P( C \\cap B)  }{P(B)}   \\iff P(C \\cap B) = P(C|B) P(B) $$"
   ]
  },
  {
   "cell_type": "markdown",
   "metadata": {},
   "source": [
    "#### 2.0 Probability Practice\n",
    "Complete the following probability problems using the material you learned in this week's async\n",
    "\n"
   ]
  },
  {
   "cell_type": "markdown",
   "metadata": {},
   "source": [
    "**2.1** Suppose you're taking a statistics class and that in each week you are either caught up or behind on the readings. It is difficult to incorporate a new class in to your schedule so the probability that you will be caught up, having viewed all async and completed the pre class exercises before the live session, is 0.7. From then on, if you are caught up in a given week, the probability that you will be caught up in the next week is 0.7. If you are behind in a given week, the probability that you will be caught up in the next week is 0.4. What is the probability that you are caught up in week 3?"
   ]
  },
  {
   "cell_type": "markdown",
   "metadata": {},
   "source": [
    "> First we extract the information that we need from the problem statement\n",
    "\n",
    "> Let $C_i$ and $B_i$ be the events where you are caught up and behind respectively in week $i \\in \\{1,2,3\\}$\n",
    "\n",
    "> From the problem statement we know that for \n",
    "$$\n",
    "\\begin{aligned} \n",
    "P(C_1) &= 0.7 \\\\\n",
    "P(C_{j+1} | C_j) &= 0.7 \\\\\n",
    "P(C_{j+1} | B_j) &= 0.4 \\\\\n",
    "\\end{aligned}\n",
    "$$\n",
    "> where $ j \\in \\{ 1,2\\} $. "
   ]
  },
  {
   "cell_type": "markdown",
   "metadata": {},
   "source": [
    "> Now using the somewhat obvious fact that \n",
    "$$\n",
    "\\begin{aligned} \n",
    "P(C_{j+1} |C_j) + P(B_{j+1} |C_j) &= 1 \\\\\n",
    "P(C_{j+1} |B_j) + P(B_{j+1} |B_j) &= 1 \n",
    "\\end{aligned}\n",
    "$$\n",
    "We can calculate that \n",
    "$$ \\begin{aligned}\n",
    " P(B_{j+1} |C_j) &= 1 - P(C_{j+1} |C_j) = 0.3\\\\\n",
    " P(B_{j+1} |B_j) &= 1 - P(C_{j+1} |B_j) = 0.6 \n",
    "\\end{aligned}\n",
    "$$"
   ]
  },
  {
   "cell_type": "markdown",
   "metadata": {},
   "source": [
    "> What remains is for us to decompose the probability that we are interested in $P(C_3)$ interms of the probabilities that we have already calculated. To do this we have to choose an appropriate partition to aid our decomposition. We will choose $C_j$ and $B_J$ since $C_j \\cup B_j = \\Omega$ and $C_j \\cap B_j = \\emptyset$. Lastly, recall that\n",
    "\n",
    "$$\n",
    "\\begin{aligned} \n",
    "P(A \\cap B) = P(A|B)P(B)\n",
    "\\end{aligned} \n",
    "$$\n",
    "\n",
    "\n",
    "\n"
   ]
  },
  {
   "cell_type": "markdown",
   "metadata": {},
   "source": [
    "\n",
    " > Now consider, \n",
    "$$\n",
    "\\begin{aligned}\n",
    "P(C_3) &= P(C_3\\cap(C_2\\cup B_2)) \\\\\n",
    "& = P(C_3\\cap C_2) + P(C_3\\cap B_2) \\\\\n",
    "& = P(C_3| C_2)P(C_2) + P(C_3 | B_2)P(B_2) \\\\\n",
    "& = P(C_3| C_2)P(C_2 \\cap( C_1 \\cup B_1 ))   + P(C_3 | B_2)P(B_2\\cap( C_1 \\cup B_1 ))  \\\\\n",
    "& = P(C_3| C_2)(P(C_2 \\cap C_1) +  P(C_2 \\cap B_1 ))  + P(C_3 | B_2)(P(B_2\\cap C_1) + P(B_2\\cap B_1) ) \\\\ \n",
    "& =  P(C_3| C_2)P(C_2 |C_1)P(C_1) +  P(C_3| C_2)P(C_2 |B_1 )P(B_1) \\\\\n",
    "& \\;\\;\\;\\;\\; + P(C_3 | B_2)P(B_2| C_1)P(C_1) + P(C_3 | B_2)P(B_2| B_1)P(B_1)  \\\\ \n",
    "& = 0.7*0.7*0.7 + 0.7*0.4*(1-0.7) + 0.4*0.3*0.7 + 0.4*0.6*(1-0.7) \\\\\n",
    "& =  0.583\n",
    "\\end{aligned}\n",
    "$$\n"
   ]
  },
  {
   "cell_type": "markdown",
   "metadata": {},
   "source": [
    "**2.2** A test for certain disease is assumed to be correct 95\\% of the time: if a person has a disease the test will give a positive result with probability 0.95. If a person does not have disease the test will give a negative result with probability 0.95. A random person drawn from a certain population has a probability 0.001 of having the disease. Given that a person drawn at random just tested positive, what is the probability that they have the disease?"
   ]
  },
  {
   "cell_type": "markdown",
   "metadata": {},
   "source": [
    "> Again we extract all the information that we can from the problem statement. \n",
    "\n",
    "> Let $POS$ and $NEG$ be the event that a person who has taken the tests, has a positive or negative result, respectively. \n",
    "\n",
    "> Let $D$ and $ND$ be the event where a person has or does not have the disease. \n",
    "\n",
    "> From the problem statement we know that. \n",
    "\n",
    "$$ \n",
    "\\begin{aligned} \n",
    "P(POS| D) & =0.95 \\\\\n",
    "P(NEG  | ND) & = 0.95 \\\\\n",
    "P(D) &= 0.001\n",
    "\\end{aligned} \n",
    "$$"
   ]
  },
  {
   "cell_type": "markdown",
   "metadata": {},
   "source": [
    "> Now again using the somewhat obvious facts. \n",
    "$$\n",
    "\\begin{aligned}\n",
    "P(POS |D) + P(NEG |D) &= 1 \\\\\n",
    "P(POS |ND) + P(NEG |ND) &= 1 \\\\\n",
    "P(ND) + P(D) &= 1\n",
    "\\end{aligned}\n",
    "$$\n",
    "\n",
    "> We can calculate that\n",
    "$$\n",
    "\\begin{aligned}\n",
    "P(NEG |D) &= 1 - P(POS |D) =  0.05 \\\\\n",
    "P(NEG |ND) &= 1 - P(POS |ND)  = 0.5 \\\\\n",
    "P(ND) &= 1 - P(D) = 0.999\n",
    "\\end{aligned}\n",
    "$$\n"
   ]
  },
  {
   "cell_type": "markdown",
   "metadata": {},
   "source": [
    "> What remains is for us to decompose the probability that we are interested in $P(D | POS)$ interms of the probabilities that we have already calculated. To do this we have to choose an appropriate partition to aid our decomposition. We will choose $D$ and $ND$ since $D \\cup ND = \\Omega$ and $D \\cap ND = \\emptyset$. "
   ]
  },
  {
   "cell_type": "markdown",
   "metadata": {},
   "source": [
    "> Now consider \n",
    "$$\n",
    "\\begin{aligned}\n",
    "P(D | POS) &= \\frac{P(D\\cap POS)}{P(POS)} \\\\\n",
    "&=  \\frac{ P(POS|D)P(D)}{P(POS\\cap D) + P(POS \\cap ND)}  \\\\\n",
    "&=  \\frac{ P(POS|D)P(D)}{P(POS|D)P(D) + P(POS |ND)P(ND)}  \\\\\n",
    "&=  \\frac{0.95 *0.001}{0.95*0.001 + 0.05*0.999} \\\\\n",
    "&= 0.018\n",
    "\\end{aligned} \n",
    "$$"
   ]
  },
  {
   "cell_type": "markdown",
   "metadata": {},
   "source": [
    "### 3.0 Patents and Operationalization Discussion\n",
    "\n",
    "Here we will discuss our pre class reading from Schoenmakers, W., Duysters, G., (2010), The Technological Origins of Radical Inventions, Research Policy 39, pp. 1051-1059. "
   ]
  },
  {
   "cell_type": "markdown",
   "metadata": {},
   "source": [
    "**3.1** Schoenmakers and Duysters are particularly interested in radical inventions.  Explain what their conceptual definition is and how it is related to their operational definition."
   ]
  },
  {
   "cell_type": "markdown",
   "metadata": {},
   "source": [
    "Student Name (Section X):\n",
    "\n",
    "Student Answer for 2.1"
   ]
  },
  {
   "cell_type": "markdown",
   "metadata": {},
   "source": [
    "> 3.1 Follow up:\n",
    "> Does the choice of relying on patent data limit the type of inventions that they are studying? "
   ]
  },
  {
   "cell_type": "markdown",
   "metadata": {},
   "source": [
    "**3.2** In your opinion, does the author’s operational definition of radical invention have validity?  (does it have face validity?  construct validity?)"
   ]
  },
  {
   "cell_type": "markdown",
   "metadata": {},
   "source": [
    "Student Name (Section X):\n",
    "\n",
    "Student Answer for 2.2"
   ]
  },
  {
   "cell_type": "markdown",
   "metadata": {},
   "source": [
    "> 3.2 Follow up:\n",
    "> Is there any reason to be suspicious of the process  by which citations are applied to each invention?"
   ]
  },
  {
   "cell_type": "markdown",
   "metadata": {},
   "source": [
    "**3.3** If you believe there is a discrepancy between the author’s operational definition of radical invention and the intended concept, how could this affect their conclusions?  What factors, other than whether an invention is radical, could be driving their results?"
   ]
  },
  {
   "cell_type": "markdown",
   "metadata": {},
   "source": [
    "Student Name (Section X):\n",
    "\n",
    "Student Answer for 2.3"
   ]
  },
  {
   "cell_type": "markdown",
   "metadata": {},
   "source": [
    "> 3.3 Follow up:\n",
    "> Suppose a patent examiner is assigned to apply citations to a patent that they have little domain knowledge about, what effect would this have on the authors analysis?  "
   ]
  },
  {
   "cell_type": "markdown",
   "metadata": {},
   "source": [
    "**3.4** In what other ways could you operationalize the concept of radical invention?"
   ]
  },
  {
   "cell_type": "markdown",
   "metadata": {},
   "source": [
    "Student Name (Section X):\n",
    "\n",
    "Student Answer for 2.4"
   ]
  },
  {
   "cell_type": "markdown",
   "metadata": {},
   "source": [
    "> 3.4 Follow up:\n",
    "> Would the amount of licensing revenue that the inventors received in a given time period help to better measure radicalness? "
   ]
  },
  {
   "cell_type": "code",
   "execution_count": null,
   "metadata": {},
   "outputs": [],
   "source": []
  }
 ],
 "metadata": {
  "kernelspec": {
   "display_name": "R",
   "language": "R",
   "name": "ir"
  },
  "language_info": {
   "codemirror_mode": "r",
   "file_extension": ".r",
   "mimetype": "text/x-r-source",
   "name": "R",
   "pygments_lexer": "r",
   "version": "3.4.3"
  }
 },
 "nbformat": 4,
 "nbformat_minor": 2
}
