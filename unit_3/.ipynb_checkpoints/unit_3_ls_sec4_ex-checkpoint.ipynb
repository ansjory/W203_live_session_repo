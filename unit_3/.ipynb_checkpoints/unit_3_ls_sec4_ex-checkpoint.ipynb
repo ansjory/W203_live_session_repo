{
 "cells": [
  {
   "cell_type": "markdown",
   "metadata": {},
   "source": [
    "<h2>Unit 3 Live Session </center> </h2>\n",
    "<h4> W203 Instructional Team </h4>"
   ]
  },
  {
   "cell_type": "markdown",
   "metadata": {},
   "source": [
    "#### Probability Theory\n",
    "<center>![title](picard.jpg)</center>"
   ]
  },
  {
   "cell_type": "markdown",
   "metadata": {},
   "source": [
    "#### Class Announcements\n",
    "\n",
    "1. Memorial Day: \n",
    "    * Make Up Section  \n",
    "    * Lab 1 Turn In\n",
    "    * Presentations\n",
    "2. TA Kshiti Bachlaus\n",
    "3. HW Solution Distribution"
   ]
  },
  {
   "cell_type": "markdown",
   "metadata": {},
   "source": [
    "#### Sharing Math: \n",
    "Over the next few weeks of the course, we'll solve a lot of math problems together.  To hand in math for homework and labs, you can do one of the following.\n",
    "* Handwrite your solutions and scan them into a **single** .pdf file\n",
    "* Write your solutions in Latex and turn in the typesetted .pdf.\n",
    "\n",
    "Even though it takes a little effort (most agree that LaTeX is a pain at first), it will help if you learn a little LaTeX.  We will be able to use the syntax for communicating equations in the notes and chat pods.\n",
    "<center>![title](latex_language.jpeg)</center>"
   ]
  },
  {
   "cell_type": "markdown",
   "metadata": {},
   "source": [
    "#### 1.0 Conditional Probability and Partitions Review\n",
    "\n",
    "Lets take a few minutes to review some core concepts in probability that will help us to complete our HW problems. \n"
   ]
  },
  {
   "cell_type": "markdown",
   "metadata": {},
   "source": [
    "** State Space $\\Omega$ **: Is the collection of all possible outcomes of a given experiment \n",
    "\n",
    "* Rolling a 6 sided die: $\\Omega = \\{1,2,3,4,5,6\\}$\n",
    "* 5 Card Poker Hand: $\\Omega$ = all 2,598,960 possible hands.  \n",
    "\n",
    "<center>![title](diag_11.png)</center>"
   ]
  },
  {
   "cell_type": "markdown",
   "metadata": {},
   "source": [
    "** Partition of $\\Omega$ **: Is a collection of events $A_1,A_2,\\cdots, A_N$ with 3 properties\n",
    "\n",
    "1. $A_j \\subset \\Omega$ for all $j \\in \\{1,2,3,\\cdots, N\\}$\n",
    "\n",
    "2. $A_i \\cap A_j = \\emptyset$ whenever $i \\neq j$\n",
    "\n",
    "3. $A_1 \\cup A_2 \\cup \\cdots \\cup A_N = \\Omega$\n",
    "\n",
    "In other words, each event $A_j$ is made up of outcomes in $\\Omega$, No two $A_j$'s overlap/share the same outcome, together all $A_j$'s combine to equal $\\Omega$ \n",
    "<center>![title](diag_22.png)</center>"
   ]
  },
  {
   "cell_type": "markdown",
   "metadata": {},
   "source": [
    "Partitions allow us to take complex events which may be difficult to address directly and decompose it into simpler events which are easier to deal with. Now consider, \n",
    "\n",
    "1.) If $B\\subset \\Omega$ and $A_1,A_2,\\cdots, A_N$ is a partition of $\\Omega$ then, \n",
    "$$ B = (A_1\\cap B)\\cup(A_2 \\cap B) \\cup \\cdots \\cup (A_N \\cap B) $$\n",
    "\n",
    "2.) If $A_i\\cap A_j= \\emptyset$ then \n",
    "$$B\\cap(A_i\\cap A_j) = (B\\cap A_i)\\cap(B\\cap A_j) = \\emptyset $$ \n",
    "\n",
    "3.) If $A\\cap B = \\emptyset$ then \n",
    "$$ P(A\\cup B) = P(A) + P(B)  - P(A\\cap B) = P(A) + P(B)  - P(\\emptyset) = P(A) + P(B)  $$\n",
    "\n",
    "Combining all these gives\n",
    "$$  P(B) = P\\big[ (A_1\\cap B)\\cup(A_2 \\cap B) \\cup \\cdots \\cup (A_N \\cap B) \\big] = \\sum_{i=1}^N P(A_i \\cap B) $$\n",
    "\n",
    "** Conditional Probability: ** Recall that,\n",
    "$$ P(B|A) = \\frac{ P( A \\cap B)  }{P(A)}   \\iff P(A \\cap B) = P(B|A) P(A) $$\n",
    "\n",
    "So if we combine the last two equations we get\n",
    "$$ P(B) =\\sum_{i=1}^N P(A_i \\cap B) = \\sum_{i=1}^N P(B|A_i) P(A_i) $$\n",
    "\n",
    "The value of this approach is that you can take a complex event $B$ and through the wise choice of a partition can decompse $P(B)$ into a bunch of easily managable parts. "
   ]
  },
  {
   "cell_type": "markdown",
   "metadata": {},
   "source": [
    "#### 2.0 Probability Practice\n",
    "Complete the following probability problems using the material you learned in this week's async"
   ]
  },
  {
   "cell_type": "markdown",
   "metadata": {},
   "source": [
    "**2.1** Suppose you're taking a statistics class and that in each week you are either caught up or behind on the readings. It is difficult to incorporate a new class in to your schedule so the probability that you will be caught up, having viewed all async and completed the pre class exercises before the live session, is 0.7. From then on, if you are caught up in a given week, the probability that you will be caught up in the next week is 0.7. If you are behind in a given week, the probability that you will be caught up in the next week is 0.4. What is the probability that you are caught up in week 3?"
   ]
  },
  {
   "cell_type": "code",
   "execution_count": null,
   "metadata": {},
   "outputs": [],
   "source": []
  },
  {
   "cell_type": "markdown",
   "metadata": {},
   "source": [
    "**2.2** A test for certain disease is assumed to be correct 95\\% of the time: if a person has a disease the test will give a positive result with probability 0.95. If a person does not have disease the test will give a negative result with probability 0.95. A random person drawn from a certain population has a probability 0.001 of having the disease. Given that a person drawn at random just tested positive, what is the probability that they have the disease?"
   ]
  },
  {
   "cell_type": "code",
   "execution_count": null,
   "metadata": {},
   "outputs": [],
   "source": []
  },
  {
   "cell_type": "markdown",
   "metadata": {},
   "source": [
    "### 3.0 Patents and Operationalization Discussion\n",
    "\n",
    "Here we will discuss our pre class reading from Schoenmakers, W., Duysters, G., (2010), The Technological Origins of Radical Inventions, Research Policy 39, pp. 1051-1059. "
   ]
  },
  {
   "cell_type": "markdown",
   "metadata": {},
   "source": [
    "**3.1** Schoenmakers and Duysters are particularly interested in radical inventions.  Explain what their conceptual definition is and how it is related to their operational definition."
   ]
  },
  {
   "cell_type": "markdown",
   "metadata": {},
   "source": [
    "Jeff Braun\n",
    "\n",
    "Schoenmaker’s and Duyster’s conceptual definition is that radical inventions as groundbreaking, demonstrating new approaches and new technology, and not merely building upon existing ideas and technology.\n",
    "As they put it, radical inventions “. . . often lie at the heart of changes in technological paradigms (Nelson and Winter, 1982), thereby creating new technological systems and sometimes even new industries”. Based on this view, their operational definition is that radical inventions are referred to (cited) by other inventions. An invention that is cited by multiple other inventions must be radical."
   ]
  },
  {
   "cell_type": "markdown",
   "metadata": {},
   "source": [
    "> 3.1 Follow up:\n",
    "> Does the choice of relying on patent data limit the type of inventions that they are studying? "
   ]
  },
  {
   "cell_type": "markdown",
   "metadata": {},
   "source": [
    "**3.2** In your opinion, does the author’s operational definition of radical invention have validity?  (does it have face validity?  construct validity?)"
   ]
  },
  {
   "cell_type": "markdown",
   "metadata": {},
   "source": [
    "Shirley Deng:\n",
    "\n",
    "Yes, it has face validity. The author used patent data to quantify the ratio of how radical of an\n",
    "invention for the reason that patent data is the single most dominant indicator in invention\n",
    "studies, as for a patent to be granted it must be novel, non-trivial, and useful. However, using\n",
    "number of “patents” cited or being cited as a single parameter might run into the risk that\n",
    "other hidden factors affects radical inventions to be omitted."
   ]
  },
  {
   "cell_type": "markdown",
   "metadata": {},
   "source": [
    "> 3.2 Follow up:\n",
    "> Is there any reason to be suspicious of the process  by which citations are applied to each invention?"
   ]
  },
  {
   "cell_type": "markdown",
   "metadata": {},
   "source": [
    "**3.3** If you believe there is a discrepancy between the author’s operational definition of radical invention and the intended concept, how could this affect their conclusions?  What factors, other than whether an invention is radical, could be driving their results?"
   ]
  },
  {
   "cell_type": "markdown",
   "metadata": {},
   "source": [
    "James Kajdasz\n",
    "\n",
    "The authors found that highly cited patents (forward citations) also had many citations themselves (backward\n",
    "citations). There are several possible explanations for the observed results. These high-citation patents may\n",
    "simply identify vibrant areas of research. A research area of high interest, for instance superconductors, has a\n",
    "large community of inventors pursuing advances and filing occasional patents. This effort creates a large\n",
    "patent literature. Future patents on superconductors will make more backward citations because there is such\n",
    "a rich literature to draw from. Forward citations will also be high, as there is a large number of inventors to\n",
    "potentially cite a given patent. Contrast this situation to the inventor who is pursuing a development of less\n",
    "world interest: there is likley to be less litereature to cite and less inventors to make future citations."
   ]
  },
  {
   "cell_type": "markdown",
   "metadata": {},
   "source": [
    "> 3.3 Follow up:\n",
    "> Suppose a patent examiner is assigned to apply citations to a patent that they have little domain knowledge about, what effect would this have on the authors analysis?  "
   ]
  },
  {
   "cell_type": "markdown",
   "metadata": {},
   "source": [
    "\n",
    "**3.4** In what other ways could you operationalize the concept of radical invention?"
   ]
  },
  {
   "cell_type": "markdown",
   "metadata": {},
   "source": [
    "Armund Kok\n",
    "\n",
    "Measuring the industry growth in the periods after a patent is introduced.\n",
    "Measuring the number of new industries that was created shortly after the patent was introduced.\n",
    "Industry growth for the industries that the patent is related to, shortly after the patent was introduced."
   ]
  },
  {
   "cell_type": "markdown",
   "metadata": {},
   "source": [
    "> 3.4 Follow up:\n",
    "> Would the amount of licensing revenue that the inventors received in a given time period help to better measure radicalness? "
   ]
  },
  {
   "cell_type": "code",
   "execution_count": null,
   "metadata": {},
   "outputs": [],
   "source": []
  }
 ],
 "metadata": {
  "kernelspec": {
   "display_name": "R",
   "language": "R",
   "name": "ir"
  },
  "language_info": {
   "codemirror_mode": "r",
   "file_extension": ".r",
   "mimetype": "text/x-r-source",
   "name": "R",
   "pygments_lexer": "r",
   "version": "3.4.3"
  }
 },
 "nbformat": 4,
 "nbformat_minor": 2
}
